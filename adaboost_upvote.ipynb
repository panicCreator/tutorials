{
 "cells": [
  {
   "cell_type": "code",
   "execution_count": 1,
   "metadata": {},
   "outputs": [],
   "source": [
    "#importing modules\n",
    "import pandas as pd\n",
    "import numpy as np\n",
    "from sklearn.model_selection import train_test_split\n",
    "from sklearn.metrics import mean_squared_error\n",
    "from sklearn.tree import DecisionTreeRegressor\n",
    "from sklearn.preprocessing import StandardScaler, scale, MinMaxScaler, OneHotEncoder\n",
    "from sklearn.compose import ColumnTransformer, make_column_transformer\n",
    "from sklearn.pipeline import Pipeline\n",
    "from sklearn.ensemble import GradientBoostingRegressor, AdaBoostRegressor"
   ]
  },
  {
   "cell_type": "code",
   "execution_count": 2,
   "metadata": {},
   "outputs": [
    {
     "data": {
      "text/html": [
       "<div>\n",
       "<style scoped>\n",
       "    .dataframe tbody tr th:only-of-type {\n",
       "        vertical-align: middle;\n",
       "    }\n",
       "\n",
       "    .dataframe tbody tr th {\n",
       "        vertical-align: top;\n",
       "    }\n",
       "\n",
       "    .dataframe thead th {\n",
       "        text-align: right;\n",
       "    }\n",
       "</style>\n",
       "<table border=\"1\" class=\"dataframe\">\n",
       "  <thead>\n",
       "    <tr style=\"text-align: right;\">\n",
       "      <th></th>\n",
       "      <th>ID</th>\n",
       "      <th>Tag</th>\n",
       "      <th>Reputation</th>\n",
       "      <th>Answers</th>\n",
       "      <th>Username</th>\n",
       "      <th>Views</th>\n",
       "      <th>Upvotes</th>\n",
       "    </tr>\n",
       "  </thead>\n",
       "  <tbody>\n",
       "    <tr>\n",
       "      <th>0</th>\n",
       "      <td>52664</td>\n",
       "      <td>a</td>\n",
       "      <td>3942.0</td>\n",
       "      <td>2.0</td>\n",
       "      <td>155623</td>\n",
       "      <td>7855.0</td>\n",
       "      <td>42.0</td>\n",
       "    </tr>\n",
       "    <tr>\n",
       "      <th>1</th>\n",
       "      <td>327662</td>\n",
       "      <td>a</td>\n",
       "      <td>26046.0</td>\n",
       "      <td>12.0</td>\n",
       "      <td>21781</td>\n",
       "      <td>55801.0</td>\n",
       "      <td>1175.0</td>\n",
       "    </tr>\n",
       "    <tr>\n",
       "      <th>2</th>\n",
       "      <td>468453</td>\n",
       "      <td>c</td>\n",
       "      <td>1358.0</td>\n",
       "      <td>4.0</td>\n",
       "      <td>56177</td>\n",
       "      <td>8067.0</td>\n",
       "      <td>60.0</td>\n",
       "    </tr>\n",
       "    <tr>\n",
       "      <th>3</th>\n",
       "      <td>96996</td>\n",
       "      <td>a</td>\n",
       "      <td>264.0</td>\n",
       "      <td>3.0</td>\n",
       "      <td>168793</td>\n",
       "      <td>27064.0</td>\n",
       "      <td>9.0</td>\n",
       "    </tr>\n",
       "    <tr>\n",
       "      <th>4</th>\n",
       "      <td>131465</td>\n",
       "      <td>c</td>\n",
       "      <td>4271.0</td>\n",
       "      <td>4.0</td>\n",
       "      <td>112223</td>\n",
       "      <td>13986.0</td>\n",
       "      <td>83.0</td>\n",
       "    </tr>\n",
       "  </tbody>\n",
       "</table>\n",
       "</div>"
      ],
      "text/plain": [
       "       ID Tag  Reputation  Answers  Username    Views  Upvotes\n",
       "0   52664   a      3942.0      2.0    155623   7855.0     42.0\n",
       "1  327662   a     26046.0     12.0     21781  55801.0   1175.0\n",
       "2  468453   c      1358.0      4.0     56177   8067.0     60.0\n",
       "3   96996   a       264.0      3.0    168793  27064.0      9.0\n",
       "4  131465   c      4271.0      4.0    112223  13986.0     83.0"
      ]
     },
     "execution_count": 2,
     "metadata": {},
     "output_type": "execute_result"
    }
   ],
   "source": [
    "#downloading and reading the datasets\n",
    "train_dataset = pd.read_csv('train_dataset.csv')\n",
    "test_dataset = pd.read_csv('test_dataset.csv')\n",
    "train_dataset.head()"
   ]
  },
  {
   "cell_type": "code",
   "execution_count": 3,
   "metadata": {},
   "outputs": [
    {
     "data": {
      "text/plain": [
       "ColumnTransformer(n_jobs=None, remainder='passthrough', sparse_threshold=0.3,\n",
       "         transformer_weights=None,\n",
       "         transformers=[('categorical', Pipeline(memory=None,\n",
       "     steps=[('labelencoder', OneHotEncoder(categorical_features=None, categories=None,\n",
       "       dtype=<class 'numpy.float64'>, handle_unknown='error',\n",
       "       n_values=None, sparse=True))]), ['Tag']), ('numerical', Pipeline(memory=None,\n",
       "     steps=[('standardscalar', MinMaxScaler(copy=True, feature_range=(0, 1)))]), ['Reputation', 'Answers', 'Views'])])"
      ]
     },
     "execution_count": 3,
     "metadata": {},
     "output_type": "execute_result"
    }
   ],
   "source": [
    "#Need to drop the columns which are not required like 'ID' & 'Username'\n",
    "dataset_after_feature_removal = train_dataset.loc[:,['Tag','Reputation', 'Answers', 'Views']]\n",
    "x_train, x_val, y_train, y_val = train_test_split(dataset_after_feature_removal, train_dataset['Upvotes'], test_size = 0.3)\n",
    "\n",
    "#Will create pre-processing pipeline to handle categorical and Numerical features.\n",
    "categorical_features = ['Tag']\n",
    "categorical_transformer =  Pipeline(steps=[\n",
    "    ('labelencoder', OneHotEncoder())\n",
    "])\n",
    "\n",
    "\n",
    "numerical_features = ['Reputation', 'Answers', 'Views']\n",
    "numerical_transform = Pipeline(steps=[\n",
    "    ('standardscalar', MinMaxScaler())\n",
    "])\n",
    "\n",
    "preprocess = ColumnTransformer(\n",
    "    remainder = 'passthrough',\n",
    "    transformers= [\n",
    "        ('categorical', categorical_transformer, categorical_features),\n",
    "        ('numerical', numerical_transform, numerical_features)\n",
    "    ]\n",
    ")\n",
    "\n",
    "preprocess"
   ]
  },
  {
   "cell_type": "code",
   "execution_count": 4,
   "metadata": {},
   "outputs": [],
   "source": [
    "#Now performing preprocessing on the x_train and x_val dataset.\n",
    "x_train_transform = preprocess.fit_transform(x_train)\n",
    "x_val_transform = preprocess.fit_transform(x_val)\n",
    "\n",
    "# Also need to convert y_train and y_val dataset into numpy array\n",
    "y_train_transform = np.array(y_train)\n",
    "y_val_transform = np.array(y_val)"
   ]
  },
  {
   "cell_type": "code",
   "execution_count": 5,
   "metadata": {},
   "outputs": [
    {
     "data": {
      "text/plain": [
       "AdaBoostRegressor(base_estimator=DecisionTreeRegressor(criterion='mse', max_depth=None, max_features=None,\n",
       "           max_leaf_nodes=None, min_impurity_decrease=0.0,\n",
       "           min_impurity_split=None, min_samples_leaf=1,\n",
       "           min_samples_split=2, min_weight_fraction_leaf=0.0,\n",
       "           presort=False, random_state=None, splitter='best'),\n",
       "         learning_rate=0.1, loss='linear', n_estimators=500,\n",
       "         random_state=5)"
      ]
     },
     "execution_count": 5,
     "metadata": {},
     "output_type": "execute_result"
    }
   ],
   "source": [
    "#creating 2 model, one will use Gradient Boosting method and second one will use Adaboost Regressor\n",
    "model_gradient_boosting = GradientBoostingRegressor(learning_rate = 0.1, n_estimators = 500, max_depth = 9)\n",
    "model_gradient_boosting.fit(x_train_transform, y_train_transform)\n",
    "\n",
    "#Will perform comparision in these 2 models\n",
    "adaboost = AdaBoostRegressor(base_estimator=DecisionTreeRegressor(), n_estimators=500,learning_rate=0.1, random_state=5)\n",
    "adaboost.fit(x_train_transform, y_train_transform)"
   ]
  },
  {
   "cell_type": "code",
   "execution_count": 9,
   "metadata": {},
   "outputs": [
    {
     "name": "stdout",
     "output_type": "stream",
     "text": [
      "8920544.118900165\n",
      "5970950.582344994\n",
      "[6.7000e+01 1.0500e+02 2.7000e+01 2.5000e+01 7.0000e+00 5.6000e+01\n",
      " 5.5000e+01 5.6000e+01 1.6200e+02 6.0000e+00 2.4000e+01 3.3000e+01\n",
      " 1.0200e+02 1.0000e+00 1.4000e+01 9.0000e+00 1.5000e+01 5.0000e+00\n",
      " 1.6000e+01 3.8800e+02 1.1636e+04 5.7100e+02 1.2000e+01 9.6400e+02\n",
      " 6.0000e+00 4.8000e+01 5.4300e+02 2.0000e+00 3.5000e+01 2.1000e+01\n",
      " 1.0000e+00 4.0000e+00 1.5300e+02 1.6000e+01 1.2000e+01 1.6600e+02\n",
      " 1.6000e+01 4.4000e+01 8.0000e+00 3.4391e+04 1.2000e+01 7.1000e+01\n",
      " 5.0000e+01 5.2000e+01 2.0000e+01 5.0000e+00 2.8900e+02 4.6800e+02\n",
      " 5.0500e+02]\n",
      "[3.8000e+01 5.4000e+01 4.6000e+01 2.1000e+01 5.0000e+00 7.2000e+01\n",
      " 2.3000e+01 1.8000e+01 6.5000e+01 6.0000e+00 2.9000e+01 1.8000e+01\n",
      " 1.5000e+02 9.0000e+00 6.0000e+00 3.0000e+00 2.7000e+01 0.0000e+00\n",
      " 1.5000e+01 1.7800e+02 1.1130e+04 4.1900e+02 5.0000e+00 5.7700e+02\n",
      " 2.3300e+02 3.2000e+01 2.5200e+02 3.0000e+00 1.6000e+01 2.5000e+01\n",
      " 0.0000e+00 0.0000e+00 1.5800e+02 6.0000e+01 7.0000e+00 2.1000e+02\n",
      " 1.1000e+01 6.4000e+01 1.1000e+01 1.3805e+04 1.6000e+01 5.2000e+01\n",
      " 2.9000e+01 1.4000e+01 1.3000e+01 6.0000e+00 1.9700e+02 3.1300e+02\n",
      " 3.0400e+02]\n"
     ]
    }
   ],
   "source": [
    "#Now will perform the prediction using the models created \n",
    "pred_gradient_boosting = model_gradient_boosting.predict(x_val_transform)\n",
    "gradient_boosting_mean_sqr = mean_squared_error(y_val_transform, pred_gradient_boosting)\n",
    "\n",
    "pred_adaboosting = adaboost.predict(x_val_transform)\n",
    "ada_boosting_mean_sqr = mean_squared_error(y_val_transform, pred_adaboosting)\n",
    "\n",
    "print(gradient_boosting_mean_sqr)\n",
    "print(ada_boosting_mean_sqr)\n",
    "\n",
    "print(pred_adaboosting[1:50])\n",
    "print(y_val_transform[1:50])"
   ]
  }
 ],
 "metadata": {
  "kernelspec": {
   "display_name": "Python 3",
   "language": "python",
   "name": "python3"
  },
  "language_info": {
   "codemirror_mode": {
    "name": "ipython",
    "version": 3
   },
   "file_extension": ".py",
   "mimetype": "text/x-python",
   "name": "python",
   "nbconvert_exporter": "python",
   "pygments_lexer": "ipython3",
   "version": "3.7.1"
  }
 },
 "nbformat": 4,
 "nbformat_minor": 2
}
